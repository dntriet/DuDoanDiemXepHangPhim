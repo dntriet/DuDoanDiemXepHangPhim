{
 "cells": [
  {
   "cell_type": "code",
   "execution_count": 7,
   "id": "579cd1f5-2d58-4b66-b65b-0b12fcb393f5",
   "metadata": {},
   "outputs": [],
   "source": [
    "import pandas as pd\n",
    "\n",
    "# Đọc file training_sets\n",
    "training_df = pd.read_csv('training_sets.csv')"
   ]
  },
  {
   "cell_type": "code",
   "execution_count": 8,
   "id": "7b964b42-fe28-415f-a51f-50cc1a0da3db",
   "metadata": {},
   "outputs": [
    {
     "name": "stdout",
     "output_type": "stream",
     "text": [
      "(52399, 15)\n"
     ]
    }
   ],
   "source": [
    "print(training_df.shape)"
   ]
  },
  {
   "cell_type": "code",
   "execution_count": null,
   "id": "97b1dc75-a989-49e9-bfda-4e0f67291ba9",
   "metadata": {},
   "outputs": [],
   "source": [
    "# CHUẨN HOÁ DỮ LIỆU KHÔNG PHẢI KIỂU SỐ"
   ]
  },
  {
   "cell_type": "code",
   "execution_count": 10,
   "id": "1cc13de2-2b5b-4571-a634-1d27496f49d9",
   "metadata": {},
   "outputs": [],
   "source": [
    "from sklearn.preprocessing import OneHotEncoder\n",
    "\n",
    "categorical_features = ['titleType', 'primaryTitle', 'originalTitle', 'genres', 'directors', 'writers'] \n",
    "\n",
    "# Tạo OneHotEncode object\n",
    "encoder = OneHotEncoder()\n",
    "\n",
    "encoder.fit(training_df[categorical_features])\n",
    "\n",
    "# Chuyển\n",
    "encoded_df = pd.DataFrame(encoder.transform(training_df[categorical_features]))\n",
    "\n",
    "# Combine encoded features với dataframe ban đầu\n",
    "training_df = pd.concat([training_df, encoded_df], axis=1)\n",
    "\n",
    "# Xoá\n",
    "training_df.drop(categorical_features, axis=1, inplace=True)\n"
   ]
  },
  {
   "cell_type": "code",
   "execution_count": 12,
   "id": "140d0b09-a4ef-44f3-9de4-c3e82d4c95cf",
   "metadata": {},
   "outputs": [
    {
     "name": "stdout",
     "output_type": "stream",
     "text": [
      "           tconst  isAdult  startYear endYear  runtimeMinutes  titleLength  \\\n",
      "0       tt0309047        0       2002      \\N             120            3   \n",
      "1       tt0083641        0       1982      \\N             116           12   \n",
      "2       tt3280916        0       2015      \\N              83           21   \n",
      "3       tt0255094        0       2000      \\N              90           10   \n",
      "4       tt1808691        0       2011      \\N             105            8   \n",
      "...           ...      ...        ...     ...             ...          ...   \n",
      "52394  tt13925862        0       2021      \\N             128           14   \n",
      "52395   tt0086770        0       1984    1992              30           11   \n",
      "52396   tt3782940        0       2014      \\N              10           16   \n",
      "52397   tt0055100        0       1961      \\N             107           15   \n",
      "52398   tt0276977        0       2001      \\N              91           10   \n",
      "\n",
      "       numGenres  numVotes  writerCount  \\\n",
      "0              3      5423            1   \n",
      "1              3      3221            2   \n",
      "2              1      9349            1   \n",
      "3              1      6694            2   \n",
      "4              3      2576            1   \n",
      "...          ...       ...          ...   \n",
      "52394          3      1052            2   \n",
      "52395          1     17916           54   \n",
      "52396          3      1502            6   \n",
      "52397          3      8786            2   \n",
      "52398          2      1133            2   \n",
      "\n",
      "                                                       0  \n",
      "0        (0, 0)\\t1.0\\n  (0, 49029)\\t1.0\\n  (0, 100914...  \n",
      "1        (0, 0)\\t1.0\\n  (0, 5412)\\t1.0\\n  (0, 56616)\\...  \n",
      "2        (0, 0)\\t1.0\\n  (0, 37972)\\t1.0\\n  (0, 91403)...  \n",
      "3        (0, 0)\\t1.0\\n  (0, 38959)\\t1.0\\n  (0, 61927)...  \n",
      "4        (0, 0)\\t1.0\\n  (0, 50603)\\t1.0\\n  (0, 102547...  \n",
      "...                                                  ...  \n",
      "52394    (0, 0)\\t1.0\\n  (0, 10171)\\t1.0\\n  (0, 57480)...  \n",
      "52395    (0, 5)\\t1.0\\n  (0, 27691)\\t1.0\\n  (0, 80731)...  \n",
      "52396    (0, 2)\\t1.0\\n  (0, 15444)\\t1.0\\n  (0, 66908)...  \n",
      "52397    (0, 0)\\t1.0\\n  (0, 23910)\\t1.0\\n  (0, 76768)...  \n",
      "52398    (0, 0)\\t1.0\\n  (0, 15605)\\t1.0\\n  (0, 67092)...  \n",
      "\n",
      "[52399 rows x 10 columns]\n"
     ]
    }
   ],
   "source": [
    "print(training_df)"
   ]
  },
  {
   "cell_type": "code",
   "execution_count": null,
   "id": "521fc669-27c9-4f2a-99db-c57172d53ee6",
   "metadata": {},
   "outputs": [],
   "source": [
    "# CHUẨN HOÁ DỮ LIỆU KIỂU SỐ"
   ]
  },
  {
   "cell_type": "code",
   "execution_count": 18,
   "id": "b6caabd4-e842-4dde-9951-a030ea2dfd6e",
   "metadata": {},
   "outputs": [],
   "source": [
    "from sklearn.preprocessing import StandardScaler\n",
    "\n",
    "features = ['isAdult', 'startYear', 'runtimeMinutes', 'titleLength', 'numGenres', 'numVotes', 'writerCount'] \n",
    "\n",
    "# Tạo StandardScaler object\n",
    "scaler = StandardScaler()\n",
    "\n",
    "# Fit\n",
    "scaler.fit(training_df[features])\n",
    "\n",
    "# Transform both training and testing data using the fitted scaler\n",
    "training_df_norm = training_df\n",
    "training_df_norm[features] = scaler.transform(training_df[features])\n",
    "\n"
   ]
  },
  {
   "cell_type": "code",
   "execution_count": 19,
   "id": "924aa35a-fed6-4e17-a45f-7df43acbe3ca",
   "metadata": {},
   "outputs": [
    {
     "name": "stdout",
     "output_type": "stream",
     "text": [
      "           tconst   isAdult  startYear endYear  runtimeMinutes  titleLength  \\\n",
      "0       tt0309047 -0.020023  -0.268603      \\N        0.973423    -1.473020   \n",
      "1       tt0083641 -0.020023  -1.577454      \\N        0.881167    -0.519199   \n",
      "2       tt3280916 -0.020023   0.582150      \\N        0.120063     0.434622   \n",
      "3       tt0255094 -0.020023  -0.399488      \\N        0.281509    -0.731159   \n",
      "4       tt1808691 -0.020023   0.320380      \\N        0.627466    -0.943119   \n",
      "...           ...       ...        ...     ...             ...          ...   \n",
      "52394  tt13925862 -0.020023   0.974806      \\N        1.157933    -0.307239   \n",
      "52395   tt0086770 -0.020023  -1.446569    1992       -1.102317    -0.625179   \n",
      "52396   tt3782940 -0.020023   0.516708      \\N       -1.563593    -0.095279   \n",
      "52397   tt0055100 -0.020023  -2.951748      \\N        0.673593    -0.201259   \n",
      "52398   tt0276977 -0.020023  -0.334046      \\N        0.304573    -0.731159   \n",
      "\n",
      "       numGenres  numVotes  writerCount  \\\n",
      "0       0.767577 -0.150689    -0.349696   \n",
      "1       0.767577 -0.180549    -0.230604   \n",
      "2      -1.918340 -0.097450    -0.349696   \n",
      "3      -1.918340 -0.133453    -0.230604   \n",
      "4       0.767577 -0.189296    -0.349696   \n",
      "...          ...       ...          ...   \n",
      "52394   0.767577 -0.209962    -0.230604   \n",
      "52395  -1.918340  0.018724     5.962168   \n",
      "52396   0.767577 -0.203860     0.245763   \n",
      "52397   0.767577 -0.105085    -0.230604   \n",
      "52398  -0.575382 -0.208864    -0.230604   \n",
      "\n",
      "                                                       0  \n",
      "0        (0, 0)\\t1.0\\n  (0, 49029)\\t1.0\\n  (0, 100914...  \n",
      "1        (0, 0)\\t1.0\\n  (0, 5412)\\t1.0\\n  (0, 56616)\\...  \n",
      "2        (0, 0)\\t1.0\\n  (0, 37972)\\t1.0\\n  (0, 91403)...  \n",
      "3        (0, 0)\\t1.0\\n  (0, 38959)\\t1.0\\n  (0, 61927)...  \n",
      "4        (0, 0)\\t1.0\\n  (0, 50603)\\t1.0\\n  (0, 102547...  \n",
      "...                                                  ...  \n",
      "52394    (0, 0)\\t1.0\\n  (0, 10171)\\t1.0\\n  (0, 57480)...  \n",
      "52395    (0, 5)\\t1.0\\n  (0, 27691)\\t1.0\\n  (0, 80731)...  \n",
      "52396    (0, 2)\\t1.0\\n  (0, 15444)\\t1.0\\n  (0, 66908)...  \n",
      "52397    (0, 0)\\t1.0\\n  (0, 23910)\\t1.0\\n  (0, 76768)...  \n",
      "52398    (0, 0)\\t1.0\\n  (0, 15605)\\t1.0\\n  (0, 67092)...  \n",
      "\n",
      "[52399 rows x 10 columns]\n"
     ]
    }
   ],
   "source": [
    "print(training_df)"
   ]
  }
 ],
 "metadata": {
  "kernelspec": {
   "display_name": "Python 3 (ipykernel)",
   "language": "python",
   "name": "python3"
  },
  "language_info": {
   "codemirror_mode": {
    "name": "ipython",
    "version": 3
   },
   "file_extension": ".py",
   "mimetype": "text/x-python",
   "name": "python",
   "nbconvert_exporter": "python",
   "pygments_lexer": "ipython3",
   "version": "3.12.2"
  }
 },
 "nbformat": 4,
 "nbformat_minor": 5
}
