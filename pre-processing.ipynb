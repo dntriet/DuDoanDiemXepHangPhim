{
 "cells": [
  {
   "cell_type": "code",
   "execution_count": 6,
   "id": "5a1f3939-6055-4185-b537-cd7fc577fe5c",
   "metadata": {},
   "outputs": [],
   "source": [
    "import pandas as pd\n",
    "\n",
    "# Đọc 3 file \n",
    "df_basics = pd.read_csv('title.basics.tsv', sep='\\t', low_memory=False)\n",
    "df_ratings = pd.read_csv('title.ratings.tsv', sep='\\t', low_memory=False)\n",
    "df_crew = pd.read_csv('title.crew.tsv', sep='\\t', low_memory=False)"
   ]
  },
  {
   "cell_type": "code",
   "execution_count": 7,
   "id": "43453262-13b5-4134-8832-8273213883cd",
   "metadata": {},
   "outputs": [],
   "source": [
    "# Tạo thêm thuộc tính primaryTitleLength bằng độ dài tên chính primaryTitle trong file title.basics.tsv --> thêm vào file title.basics\n",
    "# Tạo thêm thuộc tính numGenres là số lượng thể loại được tính toán từ thuộc tính Genres trong file title.basics.tsv --> thêm vào file title.basics\n",
    "# Tạo thêm thuộc tính writerCount là số lượng nhà văn được tính từ thuộc tính Writers trong file title.crew.tsv --> thêm vào file title.crew"
   ]
  },
  {
   "cell_type": "code",
   "execution_count": 8,
   "id": "d4784169-c215-4f10-8591-0dc269976560",
   "metadata": {},
   "outputs": [],
   "source": [
    "# Đảm bảo tất cả các giá trị trong cột 'primaryTitle' là chuỗi và xử lý giá trị thiếu\n",
    "df_basics['primaryTitle'] = df_basics['primaryTitle'].astype(str).fillna('')\n",
    "# Tạo cột mới 'titleLength' chứa độ dài của mỗi giá trị trong cột 'primaryTitle'\n",
    "df_basics['titleLength'] = df_basics['primaryTitle'].apply(lambda x: len(x))"
   ]
  },
  {
   "cell_type": "code",
   "execution_count": 9,
   "id": "4adcde24-093b-4e7d-a967-0c7bc77abbc2",
   "metadata": {},
   "outputs": [],
   "source": [
    "# Tạo cột mới 'numGenres' là số lượng thể loại từ 'genres'\n",
    "df_basics['numGenres'] = df_basics['genres'].apply(lambda x: len(x.split(',')) if pd.notnull(x) else 0)"
   ]
  },
  {
   "cell_type": "code",
   "execution_count": 10,
   "id": "29a08031-a037-406e-8843-47d66f1ac5be",
   "metadata": {},
   "outputs": [
    {
     "name": "stdout",
     "output_type": "stream",
     "text": [
      "             tconst  titleType               primaryTitle  \\\n",
      "0         tt0000001      short                 Carmencita   \n",
      "1         tt0000002      short     Le clown et ses chiens   \n",
      "2         tt0000003      short             Pauvre Pierrot   \n",
      "3         tt0000004      short                Un bon bock   \n",
      "4         tt0000005      short           Blacksmith Scene   \n",
      "...             ...        ...                        ...   \n",
      "10782261  tt9916848  tvEpisode              Episode #3.17   \n",
      "10782262  tt9916850  tvEpisode              Episode #3.19   \n",
      "10782263  tt9916852  tvEpisode              Episode #3.20   \n",
      "10782264  tt9916856      short                   The Wind   \n",
      "10782265  tt9916880  tvEpisode  Horrid Henry Knows It All   \n",
      "\n",
      "                      originalTitle isAdult startYear endYear runtimeMinutes  \\\n",
      "0                        Carmencita       0      1894      \\N              1   \n",
      "1            Le clown et ses chiens       0      1892      \\N              5   \n",
      "2                    Pauvre Pierrot       0      1892      \\N              5   \n",
      "3                       Un bon bock       0      1892      \\N             12   \n",
      "4                  Blacksmith Scene       0      1893      \\N              1   \n",
      "...                             ...     ...       ...     ...            ...   \n",
      "10782261              Episode #3.17       0      2009      \\N             \\N   \n",
      "10782262              Episode #3.19       0      2010      \\N             \\N   \n",
      "10782263              Episode #3.20       0      2010      \\N             \\N   \n",
      "10782264                   The Wind       0      2015      \\N             27   \n",
      "10782265  Horrid Henry Knows It All       0      2014      \\N             10   \n",
      "\n",
      "                              genres  titleLength  numGenres  \n",
      "0                  Documentary,Short           10          2  \n",
      "1                    Animation,Short           22          2  \n",
      "2           Animation,Comedy,Romance           14          3  \n",
      "3                    Animation,Short           11          2  \n",
      "4                       Comedy,Short           16          2  \n",
      "...                              ...          ...        ...  \n",
      "10782261         Action,Drama,Family           13          3  \n",
      "10782262         Action,Drama,Family           13          3  \n",
      "10782263         Action,Drama,Family           13          3  \n",
      "10782264                       Short            8          1  \n",
      "10782265  Adventure,Animation,Comedy           25          3  \n",
      "\n",
      "[10782266 rows x 11 columns]\n"
     ]
    }
   ],
   "source": [
    "print(df_basics)"
   ]
  },
  {
   "cell_type": "code",
   "execution_count": 11,
   "id": "78f9c403-469e-4e02-93cc-60ac9748f1e9",
   "metadata": {},
   "outputs": [],
   "source": [
    "# Tạo thêm cột 'writerCount' là số lượng nhà văn từ cột 'writers'\n",
    "df_crew['writerCount'] = df_crew['writers'].apply(lambda x: len(x.split(',')) if pd.notnull(x) else 0)"
   ]
  },
  {
   "cell_type": "code",
   "execution_count": 12,
   "id": "1ff324a4-4d09-4d94-9bff-704c3879bdcf",
   "metadata": {},
   "outputs": [
    {
     "name": "stdout",
     "output_type": "stream",
     "text": [
      "            tconst  titleType                primaryTitle  \\\n",
      "0        tt0000001      short                  Carmencita   \n",
      "1        tt0000002      short      Le clown et ses chiens   \n",
      "2        tt0000003      short              Pauvre Pierrot   \n",
      "3        tt0000004      short                 Un bon bock   \n",
      "4        tt0000005      short            Blacksmith Scene   \n",
      "...            ...        ...                         ...   \n",
      "1426275  tt9916730      movie                      6 Gunn   \n",
      "1426276  tt9916766  tvEpisode              Episode #10.15   \n",
      "1426277  tt9916778  tvEpisode                      Escape   \n",
      "1426278  tt9916840  tvEpisode  Horrid Henry's Comic Caper   \n",
      "1426279  tt9916880  tvEpisode   Horrid Henry Knows It All   \n",
      "\n",
      "                      originalTitle isAdult startYear endYear runtimeMinutes  \\\n",
      "0                        Carmencita       0      1894      \\N              1   \n",
      "1            Le clown et ses chiens       0      1892      \\N              5   \n",
      "2                    Pauvre Pierrot       0      1892      \\N              5   \n",
      "3                       Un bon bock       0      1892      \\N             12   \n",
      "4                  Blacksmith Scene       0      1893      \\N              1   \n",
      "...                             ...     ...       ...     ...            ...   \n",
      "1426275                      6 Gunn       0      2017      \\N            116   \n",
      "1426276              Episode #10.15       0      2019      \\N             43   \n",
      "1426277                      Escape       0      2019      \\N             \\N   \n",
      "1426278  Horrid Henry's Comic Caper       0      2014      \\N             11   \n",
      "1426279   Horrid Henry Knows It All       0      2014      \\N             10   \n",
      "\n",
      "                              genres  titleLength  numGenres  averageRating  \\\n",
      "0                  Documentary,Short           10          2            5.7   \n",
      "1                    Animation,Short           22          2            5.7   \n",
      "2           Animation,Comedy,Romance           14          3            6.5   \n",
      "3                    Animation,Short           11          2            5.4   \n",
      "4                       Comedy,Short           16          2            6.2   \n",
      "...                              ...          ...        ...            ...   \n",
      "1426275                        Drama            6          1            7.0   \n",
      "1426276  Family,Game-Show,Reality-TV           14          3            7.1   \n",
      "1426277          Crime,Drama,Mystery            6          3            7.2   \n",
      "1426278   Adventure,Animation,Comedy           26          3            7.0   \n",
      "1426279   Adventure,Animation,Comedy           25          3            8.5   \n",
      "\n",
      "         numVotes            directors              writers  writerCount  \n",
      "0            2058            nm0005690                   \\N            1  \n",
      "1             276            nm0721526                   \\N            1  \n",
      "2            2014            nm0721526                   \\N            1  \n",
      "3             179            nm0721526                   \\N            1  \n",
      "4            2784            nm0005690                   \\N            1  \n",
      "...           ...                  ...                  ...          ...  \n",
      "1426275        12           nm10538612           nm10538612            1  \n",
      "1426276        23                   \\N                   \\N            1  \n",
      "1426277        36                   \\N                   \\N            1  \n",
      "1426278         9  nm0584014,nm0996406  nm1482639,nm2586970            2  \n",
      "1426279         7  nm0584014,nm0996406  nm1482639,nm2586970            2  \n",
      "\n",
      "[1426280 rows x 16 columns]\n"
     ]
    }
   ],
   "source": [
    "# Gộp 3 files thông qua thuộc tính 'tconst'\n",
    "# Tạo ra file mới 'merged_df'\n",
    "merged_df = df_basics.merge(df_ratings, on='tconst', how='inner')  # Inner join (keeps all rows)\n",
    "merged_df = merged_df.merge(df_crew, on='tconst', how='inner')  # Merge with crew data\n",
    "\n",
    "# Chuyển file thành định dạng csv\n",
    "merged_df.to_csv('merged_data.tsv', sep='\\t', index=False)  # Without index column\n",
    "\n",
    "# In ra \n",
    "print(merged_df)"
   ]
  },
  {
   "cell_type": "code",
   "execution_count": 13,
   "id": "0b95ff70-cf99-46f0-ba23-fc814a22c69e",
   "metadata": {},
   "outputs": [
    {
     "name": "stdout",
     "output_type": "stream",
     "text": [
      "3\n"
     ]
    }
   ],
   "source": [
    "# Đếm số lượng dòng có ít nhất 1 giá trị null\n",
    "missing_row_count = merged_df.isnull().any(axis=1).sum()\n",
    "print(missing_row_count)"
   ]
  },
  {
   "cell_type": "code",
   "execution_count": 14,
   "id": "5b34a792-4df8-41a4-a887-c9bde7b57645",
   "metadata": {},
   "outputs": [
    {
     "name": "stdout",
     "output_type": "stream",
     "text": [
      "1426277\n"
     ]
    }
   ],
   "source": [
    "# gán merged_df vào 1 dataframe khác và sử dụng hàm dropna\n",
    "filtered_df = merged_df.dropna()\n",
    "# gán lại dataframe vào merged_df ban đầu \n",
    "merged_df = filtered_df\n",
    "# in ra số lượng dòng merged_df\n",
    "print(len(merged_df))"
   ]
  },
  {
   "cell_type": "code",
   "execution_count": 15,
   "id": "e67334d0-caa4-4f89-8ef7-776ddc303cce",
   "metadata": {},
   "outputs": [],
   "source": [
    "import pandas as pd\n",
    "import numpy as np\n",
    "from scipy import stats\n",
    "\n",
    "# Hàm tìm outliers sử dụng z-scores\n",
    "def identify_outliers_zscore(df, threshold=3):\n",
    "    # chọn ra các cột có kiểu dữ liệu là số\n",
    "  numerical_cols = df.select_dtypes(include=np.number) \n",
    "    #khởi tạo 1 dataframe rỗng\n",
    "  outliers_df = pd.DataFrame() \n",
    "    # duyệt qua từng cột\n",
    "  for col in numerical_cols:\n",
    "      # tính absolute z-scores\n",
    "    z_scores = np.abs(stats.zscore(df[col])) \n",
    "      # Lấy dòng với outlier trong từng cột\n",
    "    outlier_rows = df[z_scores > threshold].index  \n",
    "      # Thêm outlier vào dataframe\n",
    "    outliers_df = pd.concat([outliers_df, df.loc[outlier_rows]], ignore_index=True)  \n",
    "  return outliers_df.drop_duplicates()  \n",
    "    # Xoá trùng (duplicate) nếu tồn tại\n"
   ]
  },
  {
   "cell_type": "code",
   "execution_count": 16,
   "id": "0f8f748c-aeb8-4395-9b9c-5836d48d038a",
   "metadata": {},
   "outputs": [
    {
     "name": "stdout",
     "output_type": "stream",
     "text": [
      "          tconst  titleType  \\\n",
      "0      tt0000053      short   \n",
      "1      tt0000075      short   \n",
      "2      tt0000166      short   \n",
      "3      tt0000168      short   \n",
      "4      tt0000206      short   \n",
      "...          ...        ...   \n",
      "59013  tt9878574  tvEpisode   \n",
      "59014  tt9878576  tvEpisode   \n",
      "59015  tt9881616      movie   \n",
      "59016  tt9897038   tvSeries   \n",
      "59017  tt9900092   tvSeries   \n",
      "\n",
      "                                            primaryTitle  \\\n",
      "0      A Chegada do Comboio Inaugural à Estação Centr...   \n",
      "1      The Conjuring of a Woman at the House of Rober...   \n",
      "2      Salida de los trabajadores de la fábrica Españ...   \n",
      "3      Salida del público de la iglesia parroquial de...   \n",
      "4      Llegada de un tren a la estación de ferrocarri...   \n",
      "...                                                  ...   \n",
      "59013                                       Karamo Brown   \n",
      "59014                                        Jacob Tobia   \n",
      "59015                                    La filla d'algú   \n",
      "59016                                    Chip and Potato   \n",
      "59017                             Motherland: Fort Salem   \n",
      "\n",
      "                                           originalTitle isAdult startYear  \\\n",
      "0      A Chegada do Comboio Inaugural à Estação Centr...       0      1897   \n",
      "1         Escamotage d'une dame au théâtre Robert Houdin       0      1896   \n",
      "2      Salida de los trabajadores de la fábrica Españ...       0      1897   \n",
      "3      Salida del público de la iglesia parroquial de...       0      1897   \n",
      "4      Llegada de un tren a la estación de ferrocarri...       0      1898   \n",
      "...                                                  ...     ...       ...   \n",
      "59013                                       Karamo Brown       0      2019   \n",
      "59014                                        Jacob Tobia       0      2019   \n",
      "59015                                    La filla d'algú       0      2019   \n",
      "59016                                    Chip and Potato       0      2018   \n",
      "59017                             Motherland: Fort Salem       0      2020   \n",
      "\n",
      "      endYear runtimeMinutes                      genres  titleLength  \\\n",
      "0          \\N             \\N           Documentary,Short           57   \n",
      "1          \\N              1                Horror,Short           54   \n",
      "2          \\N              1           Documentary,Short           58   \n",
      "3          \\N              1           Documentary,Short           66   \n",
      "4          \\N             \\N           Documentary,Short           71   \n",
      "...       ...            ...                         ...          ...   \n",
      "59013      \\N             29       Comedy,News,Talk-Show           12   \n",
      "59014      \\N             28       Comedy,News,Talk-Show           11   \n",
      "59015      \\N             71                       Drama           15   \n",
      "59016      \\N             23  Adventure,Animation,Comedy           15   \n",
      "59017    2022             42        Drama,Fantasy,Sci-Fi           22   \n",
      "\n",
      "       numGenres  averageRating  numVotes  \\\n",
      "0              2            3.3        19   \n",
      "1              2            6.3      2062   \n",
      "2              2            3.6        19   \n",
      "3              2            2.9        18   \n",
      "4              2            5.1        14   \n",
      "...          ...            ...       ...   \n",
      "59013          3            5.3        25   \n",
      "59014          3            5.2        28   \n",
      "59015          1            6.6        65   \n",
      "59016          3            6.2       227   \n",
      "59017          3            7.3     18807   \n",
      "\n",
      "                                               directors  \\\n",
      "0                                              nm0684607   \n",
      "1                                              nm0617588   \n",
      "2                                              nm0005717   \n",
      "3                                              nm0005717   \n",
      "4                                              nm0005717   \n",
      "...                                                  ...   \n",
      "59013                                nm2142199,nm2774033   \n",
      "59014                                          nm2142199   \n",
      "59015  nm5487558,nm2327950,nm9985563,nm10526485,nm791...   \n",
      "59016  nm2110365,nm2625612,nm4813436,nm0748843,nm1183...   \n",
      "59017  nm0850102,nm0463320,nm0011876,nm0292468,nm3345...   \n",
      "\n",
      "                                                 writers  writerCount  \n",
      "0                                                     \\N            1  \n",
      "1                                                     \\N            1  \n",
      "2                                                     \\N            1  \n",
      "3                                                     \\N            1  \n",
      "4                                                     \\N            1  \n",
      "...                                                  ...          ...  \n",
      "59013  nm6194006,nm2174114,nm4012444,nm0810431,nm0935...           21  \n",
      "59014  nm6194006,nm2174114,nm4012444,nm0810431,nm0935...           21  \n",
      "59015  nm5487558,nm5402059,nm10526487,nm8845976,nm998...           17  \n",
      "59016  nm4674605,nm2702030,nm1354128,nm1393414,nm1371...           36  \n",
      "59017  nm2436744,nm6632654,nm3975663,nm7640985,nm4116...           16  \n",
      "\n",
      "[58027 rows x 16 columns]\n"
     ]
    }
   ],
   "source": [
    "outlier_row_df = identify_outliers_zscore(merged_df.copy(), 3)\n",
    "print(outlier_row_df)"
   ]
  },
  {
   "cell_type": "code",
   "execution_count": 17,
   "id": "eb829792-a260-489b-94de-a05d70e3b3a6",
   "metadata": {},
   "outputs": [
    {
     "name": "stdout",
     "output_type": "stream",
     "text": [
      "(1426277, 16)\n"
     ]
    }
   ],
   "source": [
    "print(merged_df.shape)"
   ]
  },
  {
   "cell_type": "code",
   "execution_count": 18,
   "id": "1d106d03-17ee-42fe-9246-f8f7f0a19678",
   "metadata": {},
   "outputs": [
    {
     "name": "stdout",
     "output_type": "stream",
     "text": [
      "(1368250, 16)\n"
     ]
    }
   ],
   "source": [
    "# Xoá những dòng vừa in ra (những dòng có ít nhất 1 giá trị bị outlier)\n",
    "temp_df = merged_df.drop(outlier_row_df.index)  \n",
    "# Gán lại temp_df cho merged_df\n",
    "merged_df = temp_df\n",
    "print(merged_df.shape)"
   ]
  },
  {
   "cell_type": "code",
   "execution_count": 19,
   "id": "1c4b22e7-95b1-487a-899f-6e14699aa412",
   "metadata": {},
   "outputs": [
    {
     "name": "stdout",
     "output_type": "stream",
     "text": [
      "            tconst  titleType          primaryTitle         originalTitle  \\\n",
      "26342    tt0044729      movie       Hurricane Smith       Hurricane Smith   \n",
      "27019    tt0045555      movie          The Big Heat          The Big Heat   \n",
      "27086    tt0045630      movie  City Beneath the Sea  City Beneath the Sea   \n",
      "27142    tt0045698      movie    Angels of Darkness        Donne proibite   \n",
      "27215    tt0045780      movie             Forbidden             Forbidden   \n",
      "...            ...        ...                   ...                   ...   \n",
      "1426249  tt9916362      movie                 Coven              Akelarre   \n",
      "1426253  tt9916420  tvEpisode         Episode #21.1         Episode #21.1   \n",
      "1426256  tt9916460    tvMovie             Pink Taxi             Pink Taxi   \n",
      "1426276  tt9916766  tvEpisode        Episode #10.15        Episode #10.15   \n",
      "1426277  tt9916778  tvEpisode                Escape                Escape   \n",
      "\n",
      "        isAdult startYear endYear runtimeMinutes                       genres  \\\n",
      "26342         0      1952      \\N             90     Action,Adventure,Romance   \n",
      "27019         0      1953      \\N             89     Crime,Film-Noir,Thriller   \n",
      "27086         0      1953      \\N             87       Action,Adventure,Drama   \n",
      "27142         0      1954      \\N             94                        Drama   \n",
      "27215         0      1953      \\N             85        Crime,Drama,Film-Noir   \n",
      "...         ...       ...     ...            ...                          ...   \n",
      "1426249       0      2020      \\N             92                Drama,History   \n",
      "1426253       0      2019      \\N             \\N             Comedy,Game-Show   \n",
      "1426256       0      2019      \\N             \\N                       Comedy   \n",
      "1426276       0      2019      \\N             43  Family,Game-Show,Reality-TV   \n",
      "1426277       0      2019      \\N             \\N          Crime,Drama,Mystery   \n",
      "\n",
      "         titleLength  numGenres  averageRating  numVotes  directors  \\\n",
      "26342             15          3            5.3       213  nm0394409   \n",
      "27019             12          3            7.9     29283  nm0000485   \n",
      "27086             20          3            5.4       703  nm0091430   \n",
      "27142             18          1            6.8       195  nm0024155   \n",
      "27215              9          3            6.3       518  nm0005789   \n",
      "...              ...        ...            ...       ...        ...   \n",
      "1426249            5          2            6.4      5808  nm1893148   \n",
      "1426253           13          2            7.3         8         \\N   \n",
      "1426256            9          1            8.9        19  nm7048843   \n",
      "1426276           14          3            7.1        23         \\N   \n",
      "1426277            6          3            7.2        36         \\N   \n",
      "\n",
      "                                                   writers  writerCount  \n",
      "26342                                  nm0344246,nm0949583            2  \n",
      "27019                                  nm0091213,nm0569423            2  \n",
      "27086                        nm1027109,nm0367556,nm0739560            3  \n",
      "27142    nm0024155,nm0029558,nm0211459,nm0266488,nm0542...            9  \n",
      "27215                                  nm0755266,nm0234758            2  \n",
      "...                                                    ...          ...  \n",
      "1426249                                nm1893148,nm3471432            2  \n",
      "1426253                                                 \\N            1  \n",
      "1426256                                nm7048843,nm8691452            2  \n",
      "1426276                                                 \\N            1  \n",
      "1426277                                                 \\N            1  \n",
      "\n",
      "[435794 rows x 16 columns]\n"
     ]
    }
   ],
   "source": [
    "\n",
    "dup_row = merged_df[merged_df.duplicated(subset='primaryTitle', keep=False)]\n",
    "print(dup_row)"
   ]
  },
  {
   "cell_type": "code",
   "execution_count": 20,
   "id": "aaaf7255-6d6e-4911-ba0b-6de12b50d1cb",
   "metadata": {},
   "outputs": [
    {
     "name": "stdout",
     "output_type": "stream",
     "text": [
      "(1368250, 16)\n"
     ]
    }
   ],
   "source": [
    "print(merged_df.shape)"
   ]
  },
  {
   "cell_type": "code",
   "execution_count": 21,
   "id": "00ee4194-dc9c-4ed6-9c03-5ebd934aa343",
   "metadata": {},
   "outputs": [
    {
     "name": "stdout",
     "output_type": "stream",
     "text": [
      "(326075, 16)\n"
     ]
    }
   ],
   "source": [
    "merged_df_duplicates = merged_df[merged_df.duplicated(subset=['primaryTitle', 'originalTitle'])]\n",
    "print(merged_df_duplicates.shape)"
   ]
  },
  {
   "cell_type": "code",
   "execution_count": 23,
   "id": "ddf5fa59-226e-450d-b0ce-b7ac864e4885",
   "metadata": {},
   "outputs": [
    {
     "name": "stdout",
     "output_type": "stream",
     "text": [
      "(1042175, 16)\n"
     ]
    }
   ],
   "source": [
    "# Tạo merged_df_without_duplicates \n",
    "merged_df_without_duplicates = merged_df.drop_duplicates(subset=['primaryTitle', 'originalTitle'], keep = 'first')\n",
    "# Gán merged_df_without_duplicates vào merged_df ban đầu\n",
    "merged_df = merged_df_without_duplicates\n",
    "# In ra thông số\n",
    "print(merged_df.shape)"
   ]
  }
 ],
 "metadata": {
  "kernelspec": {
   "display_name": "Python 3 (ipykernel)",
   "language": "python",
   "name": "python3"
  },
  "language_info": {
   "codemirror_mode": {
    "name": "ipython",
    "version": 3
   },
   "file_extension": ".py",
   "mimetype": "text/x-python",
   "name": "python",
   "nbconvert_exporter": "python",
   "pygments_lexer": "ipython3",
   "version": "3.12.2"
  }
 },
 "nbformat": 4,
 "nbformat_minor": 5
}
