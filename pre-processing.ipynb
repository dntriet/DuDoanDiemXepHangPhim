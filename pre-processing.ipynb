{
 "cells": [
  {
   "cell_type": "code",
   "execution_count": 2,
   "id": "5a1f3939-6055-4185-b537-cd7fc577fe5c",
   "metadata": {},
   "outputs": [],
   "source": [
    "import pandas as pd\n",
    "\n",
    "# Đọc 3 file \n",
    "df_basics = pd.read_csv('title.basics.tsv', sep='\\t', low_memory=False)\n",
    "df_ratings = pd.read_csv('title.ratings.tsv', sep='\\t', low_memory=False)\n",
    "df_crew = pd.read_csv('title.crew.tsv', sep='\\t', low_memory=False)"
   ]
  },
  {
   "cell_type": "code",
   "execution_count": 3,
   "id": "1ad0b973-dc8b-4f46-82e7-9272e0aa66a5",
   "metadata": {},
   "outputs": [],
   "source": [
    "# THÊM THUỘC TÍNH CẦN THIẾT"
   ]
  },
  {
   "cell_type": "code",
   "execution_count": 4,
   "id": "43453262-13b5-4134-8832-8273213883cd",
   "metadata": {},
   "outputs": [],
   "source": [
    "# Tạo thêm thuộc tính primaryTitleLength bằng độ dài tên chính primaryTitle trong file title.basics.tsv --> thêm vào file title.basics\n",
    "# Tạo thêm thuộc tính numGenres là số lượng thể loại được tính toán từ thuộc tính Genres trong file title.basics.tsv --> thêm vào file title.basics\n",
    "# Tạo thêm thuộc tính writerCount là số lượng nhà văn được tính từ thuộc tính Writers trong file title.crew.tsv --> thêm vào file title.crew"
   ]
  },
  {
   "cell_type": "code",
   "execution_count": null,
   "id": "d4784169-c215-4f10-8591-0dc269976560",
   "metadata": {},
   "outputs": [],
   "source": [
    "# Đảm bảo tất cả các giá trị trong cột 'primaryTitle' là chuỗi và xử lý giá trị thiếu\n",
    "df_basics['primaryTitle'] = df_basics['primaryTitle'].astype(str).fillna('')\n",
    "\n",
    "# Tạo cột mới 'titleLength' chứa độ dài của mỗi giá trị trong cột 'primaryTitle'\n",
    "df_basics['titleLength'] = df_basics['primaryTitle'].apply(lambda x: len(x))\n",
    "\n",
    "# Tạo cột mới 'numGenres' là số lượng thể loại từ 'genres'\n",
    "df_basics['numGenres'] = df_basics['genres'].apply(lambda x: len(x.split(',')) if pd.notnull(x) else 0)\n",
    "\n",
    "# Tạo thêm cột 'writerCount' là số lượng nhà văn từ cột 'writers'\n",
    "df_crew['writerCount'] = df_crew['writers'].apply(lambda x: len(x.split(',')) if pd.notnull(x) else 0)"
   ]
  },
  {
   "cell_type": "code",
   "execution_count": null,
   "id": "120973fb-6848-4412-8a4a-a52454f03ce4",
   "metadata": {},
   "outputs": [],
   "source": [
    "# GỘP 3 FILE"
   ]
  },
  {
   "cell_type": "code",
   "execution_count": null,
   "id": "1ff324a4-4d09-4d94-9bff-704c3879bdcf",
   "metadata": {},
   "outputs": [],
   "source": [
    "# Gộp 3 files thông qua thuộc tính 'tconst'\n",
    "\n",
    "# Tạo ra file mới 'merged_df'\n",
    "merged_df = df_basics.merge(df_ratings, on='tconst', how='inner')  # Inner join (keeps all rows)\n",
    "merged_df = merged_df.merge(df_crew, on='tconst', how='inner')  # Merge with crew data\n",
    "\n",
    "# Chuyển file thành định dạng csv\n",
    "merged_df.to_csv('merged_data.tsv', sep='\\t', index=False)  # Without index column\n",
    "\n",
    "# In ra thông số\n",
    "print(merged_df.shape)"
   ]
  },
  {
   "cell_type": "code",
   "execution_count": null,
   "id": "5f7de7cf-bd84-4b72-b740-c0c838b9a74b",
   "metadata": {},
   "outputs": [],
   "source": [
    "# XỬ LÝ GIÁ TRỊ NULL"
   ]
  },
  {
   "cell_type": "code",
   "execution_count": null,
   "id": "0b95ff70-cf99-46f0-ba23-fc814a22c69e",
   "metadata": {},
   "outputs": [],
   "source": [
    "# Đếm số lượng dòng có ít nhất 1 giá trị null\n",
    "missing_row_count = merged_df.isnull().any(axis=1).sum()\n",
    "print(missing_row_count)"
   ]
  },
  {
   "cell_type": "code",
   "execution_count": null,
   "id": "5b34a792-4df8-41a4-a887-c9bde7b57645",
   "metadata": {},
   "outputs": [],
   "source": [
    "# Xử lý giá trị NULL\n",
    "# gán merged_df vào 1 dataframe khác và sử dụng hàm dropna\n",
    "filtered_df = merged_df.dropna()\n",
    "\n",
    "# gán lại dataframe vào merged_df ban đầu \n",
    "merged_df = filtered_df\n",
    "\n",
    "# in ra số thông số merged_df\n",
    "print(merged_df.shape)"
   ]
  },
  {
   "cell_type": "code",
   "execution_count": null,
   "id": "84adbe14-6bd7-4b6b-b1cf-b33b3c7d556a",
   "metadata": {},
   "outputs": [],
   "source": [
    "# Xử lý cột 'genres'\n",
    "# Tạo ra dataframe mới là filtered_df = merged_df\n",
    "\n",
    "# Xoá các hàng có cột genres chứa giá trị '\\N' \n",
    "filtered_df = merged_df[~merged_df['genres'].str.contains(\"\\\\\\\\N\")]  \n",
    "\n",
    "# in ra thông số filtered_df - thông số của dataframe sau khi xoá các phần tử NULL ở cột 'genres'\n",
    "print(\"filtered_df: \")\n",
    "print(filtered_df.shape)\n"
   ]
  },
  {
   "cell_type": "code",
   "execution_count": null,
   "id": "8bc32c2e-4b55-4842-bd8c-ff3a919e028d",
   "metadata": {},
   "outputs": [],
   "source": [
    "# Xử lý giá trị NULL với cột 'genres'\n",
    "# gán filtered_df lại cho merged_df\n",
    "merged_df = filtered_df\n",
    "\n",
    "# In ra thông số của merged_df\n",
    "print(\"merged_df: \")\n",
    "print(merged_df.shape)"
   ]
  },
  {
   "cell_type": "code",
   "execution_count": null,
   "id": "b1873d89-21c1-4fe6-ba6a-f2be5e5ccf6b",
   "metadata": {},
   "outputs": [],
   "source": [
    "# Xử lý cột 'runtimeMinutes'\n",
    "# Xoá các hàng có cột runtimeMinutes chứa giá trị '\\N' \n",
    "filtered_df = merged_df[~merged_df['runtimeMinutes'].str.contains(\"\\\\\\\\N\")]  \n",
    "\n",
    "# in ra thông số filtered_df - thông số của dataframe sau khi xoá các phần tử NULL ở cột 'runtimeMinutes'\n",
    "print(\"filtered_df: \")\n",
    "print(filtered_df.shape)"
   ]
  },
  {
   "cell_type": "code",
   "execution_count": null,
   "id": "a180e6c8-028d-43d4-bc5c-0fe22001906b",
   "metadata": {},
   "outputs": [],
   "source": [
    "# Xử lý giá trị NULL với cột 'runtimeMinutes'\n",
    "\n",
    "# gán filtered_df lại cho merged_df\n",
    "merged_df = filtered_df\n",
    "\n",
    "# In ra thông số của merged_df\n",
    "print(\"merged_df: \")\n",
    "print(merged_df.shape)"
   ]
  },
  {
   "cell_type": "code",
   "execution_count": null,
   "id": "a96d36cc-c7b0-40f0-9715-46dd599b4d58",
   "metadata": {},
   "outputs": [],
   "source": [
    "# Xử lý cột 'directors'\n",
    "# Xoá các hàng có cột directors chứa giá trị '\\N' \n",
    "filtered_df = merged_df[~merged_df['directors'].str.contains(\"\\\\\\\\N\")]  \n",
    "\n",
    "# in ra thông số filtered_df - thông số của dataframe sau khi xoá các phần tử NULL ở cột 'directors'\n",
    "print(\"filtered_df: \")\n",
    "print(filtered_df.shape)"
   ]
  },
  {
   "cell_type": "code",
   "execution_count": null,
   "id": "14eb2ee3-c3b0-41c3-81ed-369ef845d4fd",
   "metadata": {},
   "outputs": [],
   "source": [
    "# Xử lý giá trị NULL với cột 'directors'\n",
    "\n",
    "# gán filtered_df lại cho merged_df\n",
    "merged_df = filtered_df\n",
    "\n",
    "# In ra thông số của merged_df\n",
    "print(\"merged_df: \")\n",
    "print(merged_df.shape)"
   ]
  },
  {
   "cell_type": "code",
   "execution_count": null,
   "id": "c7086b50-5336-4e8b-86fb-434f6d83c0aa",
   "metadata": {},
   "outputs": [],
   "source": [
    "# Xử lý cột 'writers'\n",
    "# Xoá các hàng có cột writers chứa giá trị '\\N' \n",
    "filtered_df = merged_df[~merged_df['writers'].str.contains(\"\\\\\\\\N\")]  \n",
    "\n",
    "# in ra thông số filtered_df - thông số của dataframe sau khi xoá các phần tử NULL ở cột 'directors'\n",
    "print(\"filtered_df: \")\n",
    "print(filtered_df.shape)"
   ]
  },
  {
   "cell_type": "code",
   "execution_count": null,
   "id": "bdcaee7b-9468-45ad-ae51-284f813120c5",
   "metadata": {},
   "outputs": [],
   "source": [
    "# Xử lý giá trị NULL với cột 'writers'\n",
    "\n",
    "# gán filtered_df lại cho merged_df\n",
    "merged_df = filtered_df\n",
    "\n",
    "# In ra thông số của merged_df\n",
    "print(\"merged_df: \")\n",
    "print(merged_df.shape)"
   ]
  },
  {
   "cell_type": "code",
   "execution_count": null,
   "id": "c763c99e-227c-4e5b-b41a-15264ebdf08e",
   "metadata": {},
   "outputs": [],
   "source": [
    "# XỬ LÝ PHẦN TỬ OUTLIERS"
   ]
  },
  {
   "cell_type": "code",
   "execution_count": null,
   "id": "e67334d0-caa4-4f89-8ef7-776ddc303cce",
   "metadata": {},
   "outputs": [],
   "source": [
    "import pandas as pd\n",
    "import numpy as np\n",
    "from scipy import stats\n",
    "\n",
    "# Hàm tìm outliers sử dụng z-scores\n",
    "def identify_outliers_zscore(df, threshold=3):\n",
    "    # chọn ra các cột có kiểu dữ liệu là số\n",
    "  numerical_cols = df.select_dtypes(include=np.number) \n",
    "    #khởi tạo 1 dataframe rỗng\n",
    "  outliers_df = pd.DataFrame() \n",
    "    # duyệt qua từng cột\n",
    "  for col in numerical_cols:\n",
    "      # tính absolute z-scores\n",
    "    z_scores = np.abs(stats.zscore(df[col])) \n",
    "      # Lấy dòng với outlier trong từng cột\n",
    "    outlier_rows = df[z_scores > threshold].index  \n",
    "      # Thêm outlier vào dataframe\n",
    "    outliers_df = pd.concat([outliers_df, df.loc[outlier_rows]], ignore_index=True)  \n",
    "  return outliers_df.drop_duplicates()  \n",
    "    # Xoá trùng (duplicate) nếu tồn tại\n"
   ]
  },
  {
   "cell_type": "code",
   "execution_count": null,
   "id": "0f8f748c-aeb8-4395-9b9c-5836d48d038a",
   "metadata": {},
   "outputs": [],
   "source": [
    "# In ra các phần tử bị outlier sau khi qua hàm\n",
    "outlier_row_df = identify_outliers_zscore(merged_df.copy(), 3)\n",
    "print(outlier_row_df)"
   ]
  },
  {
   "cell_type": "code",
   "execution_count": null,
   "id": "1d106d03-17ee-42fe-9246-f8f7f0a19678",
   "metadata": {},
   "outputs": [],
   "source": [
    "# Tạo fitered_df = merged_df và xoá những hàng có chứa ít nhất 1 phần tử bị outlier\n",
    "filtered_df = merged_df[~merged_df.index.isin(outlier_row_df.index)]  # Exclude rows in outlier_indices\n",
    "\n",
    "# Gán filtered_df vào lại cho merged_df\n",
    "merged_df = filtered_df\n",
    "\n",
    "# In ra thông số của merged_df\n",
    "print(merged_df.shape)\n"
   ]
  },
  {
   "cell_type": "code",
   "execution_count": null,
   "id": "0af301ef-f375-422e-99b9-1ff75a20c09b",
   "metadata": {},
   "outputs": [],
   "source": [
    "# XỬ LÝ PHẦN TỬ BỊ NHIỄU THEO BUSINESS LOGIC"
   ]
  },
  {
   "cell_type": "code",
   "execution_count": null,
   "id": "9dcf792e-d4fe-4947-b1e1-2a304aec2179",
   "metadata": {},
   "outputs": [],
   "source": [
    "# Loại bỏ dữ liệu nhiễu sử dụng business logic\n",
    "# Thông thường, một bộ phim có trên 1000 lượt đánh giá sẽ được xem xét là đủ khách quan\n",
    "# Lọc ra cá phần tử có lượt đánh giá nhỏ hơn 1000\n",
    "filtered_df = merged_df[merged_df['numVotes'] < 1500]\n",
    "\n",
    "# Print the filtered DataFrame\n",
    "print(filtered_df.shape)\n"
   ]
  },
  {
   "cell_type": "code",
   "execution_count": null,
   "id": "921d59a6-5cf9-4327-a061-7e6a57ceee25",
   "metadata": {},
   "outputs": [],
   "source": [
    "# Tiến hành lọc ra các phần tử có trên 1000 lượt đánh giá\n",
    "filtered_df = merged_df[merged_df['numVotes'] > 1000]\n",
    "\n",
    "# Gán filtered_df vào cho merged_df\n",
    "merged_df = filtered_df.copy()\n",
    "\n",
    "# In ra thông số của merged_df\n",
    "print(\"merged_df: \")\n",
    "print(merged_df.shape)"
   ]
  },
  {
   "cell_type": "code",
   "execution_count": null,
   "id": "3569e5ab-8df1-47a4-866b-c67e7acbf2f5",
   "metadata": {},
   "outputs": [],
   "source": [
    "# XỬ LÝ CÁC PHẦN TỬ TRÙNG NHAU"
   ]
  },
  {
   "cell_type": "code",
   "execution_count": null,
   "id": "1c4b22e7-95b1-487a-899f-6e14699aa412",
   "metadata": {},
   "outputs": [],
   "source": [
    "# Tìm các phần tử bị trùng nhau ở cột primaryTitle\n",
    "dup_row = merged_df[merged_df.duplicated(subset='primaryTitle', keep=False)]\n",
    "print(dup_row)"
   ]
  },
  {
   "cell_type": "code",
   "execution_count": null,
   "id": "00ee4194-dc9c-4ed6-9c03-5ebd934aa343",
   "metadata": {},
   "outputs": [],
   "source": [
    "# Tìm các phần tử bị trùng nhau ở cột primaryTitle hoặc cột originalTitle\n",
    "merged_df_duplicates = merged_df[merged_df.duplicated(subset=['primaryTitle', 'originalTitle'])]\n",
    "print(merged_df_duplicates.shape)"
   ]
  },
  {
   "cell_type": "code",
   "execution_count": null,
   "id": "ddf5fa59-226e-450d-b0ce-b7ac864e4885",
   "metadata": {},
   "outputs": [],
   "source": [
    "# Xử lý các phần tử trùng nhau ở 2 cột\n",
    "\n",
    "# Tạo merged_df_without_duplicates = merged_df sau khi xoá các phần tử và giữ lại phần tử đầu tiên\n",
    "merged_df_without_duplicates = merged_df.drop_duplicates(subset=['primaryTitle', 'originalTitle'], keep = 'first')\n",
    "\n",
    "# Gán merged_df_without_duplicates vào merged_df ban đầu\n",
    "merged_df = merged_df_without_duplicates\n",
    "\n",
    "# In ra thông số\n",
    "print(merged_df.shape)"
   ]
  },
  {
   "cell_type": "code",
   "execution_count": null,
   "id": "4f6a404b-c890-43b2-8c1d-9f99efa44266",
   "metadata": {},
   "outputs": [],
   "source": [
    "print(merged_df)"
   ]
  },
  {
   "cell_type": "code",
   "execution_count": null,
   "id": "19b0e6ff-ca95-43be-a544-c6164c5c5706",
   "metadata": {},
   "outputs": [],
   "source": [
    "# Xuất dữ liệu DataFrame thành file CSV\n",
    "file_path = './cleaned_data.csv'\n",
    "merged_df.to_csv(file_path, index=False)"
   ]
  }
 ],
 "metadata": {
  "kernelspec": {
   "display_name": "Python 3 (ipykernel)",
   "language": "python",
   "name": "python3"
  },
  "language_info": {
   "codemirror_mode": {
    "name": "ipython",
    "version": 3
   },
   "file_extension": ".py",
   "mimetype": "text/x-python",
   "name": "python",
   "nbconvert_exporter": "python",
   "pygments_lexer": "ipython3",
   "version": "3.12.2"
  }
 },
 "nbformat": 4,
 "nbformat_minor": 5
}
