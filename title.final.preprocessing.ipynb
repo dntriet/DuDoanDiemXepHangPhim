{
 "cells": [
  {
   "cell_type": "code",
   "execution_count": 1,
   "id": "dd26037e-2766-483f-a908-21c389284fc4",
   "metadata": {},
   "outputs": [],
   "source": [
    "import pandas as pd\n",
    "import gzip\n",
    "\n",
    "# Đọc 2 file gzipped\n",
    "df_basics = pd.read_csv('title.basics.tsv', sep='\\t', low_memory=False)\n",
    "df_ratings = pd.read_csv('title.ratings.tsv', sep='\\t', low_memory=False)\n",
    "df_crew = pd.read_csv('title.crew.tsv', sep='\\t', low_memory=False)"
   ]
  },
  {
   "cell_type": "code",
   "execution_count": 2,
   "id": "703c7dcf-afff-49c4-9592-d6083dcb6352",
   "metadata": {},
   "outputs": [
    {
     "name": "stdout",
     "output_type": "stream",
     "text": [
      "            tconst  titleType                primaryTitle  \\\n",
      "0        tt0000001      short                  Carmencita   \n",
      "1        tt0000002      short      Le clown et ses chiens   \n",
      "2        tt0000003      short              Pauvre Pierrot   \n",
      "3        tt0000004      short                 Un bon bock   \n",
      "4        tt0000005      short            Blacksmith Scene   \n",
      "...            ...        ...                         ...   \n",
      "1426275  tt9916730      movie                      6 Gunn   \n",
      "1426276  tt9916766  tvEpisode              Episode #10.15   \n",
      "1426277  tt9916778  tvEpisode                      Escape   \n",
      "1426278  tt9916840  tvEpisode  Horrid Henry's Comic Caper   \n",
      "1426279  tt9916880  tvEpisode   Horrid Henry Knows It All   \n",
      "\n",
      "                      originalTitle isAdult startYear endYear runtimeMinutes  \\\n",
      "0                        Carmencita       0      1894      \\N              1   \n",
      "1            Le clown et ses chiens       0      1892      \\N              5   \n",
      "2                    Pauvre Pierrot       0      1892      \\N              5   \n",
      "3                       Un bon bock       0      1892      \\N             12   \n",
      "4                  Blacksmith Scene       0      1893      \\N              1   \n",
      "...                             ...     ...       ...     ...            ...   \n",
      "1426275                      6 Gunn       0      2017      \\N            116   \n",
      "1426276              Episode #10.15       0      2019      \\N             43   \n",
      "1426277                      Escape       0      2019      \\N             \\N   \n",
      "1426278  Horrid Henry's Comic Caper       0      2014      \\N             11   \n",
      "1426279   Horrid Henry Knows It All       0      2014      \\N             10   \n",
      "\n",
      "                              genres  averageRating  numVotes  \\\n",
      "0                  Documentary,Short            5.7      2058   \n",
      "1                    Animation,Short            5.7       276   \n",
      "2           Animation,Comedy,Romance            6.5      2014   \n",
      "3                    Animation,Short            5.4       179   \n",
      "4                       Comedy,Short            6.2      2784   \n",
      "...                              ...            ...       ...   \n",
      "1426275                        Drama            7.0        12   \n",
      "1426276  Family,Game-Show,Reality-TV            7.1        23   \n",
      "1426277          Crime,Drama,Mystery            7.2        36   \n",
      "1426278   Adventure,Animation,Comedy            7.0         9   \n",
      "1426279   Adventure,Animation,Comedy            8.5         7   \n",
      "\n",
      "                   directors              writers  \n",
      "0                  nm0005690                   \\N  \n",
      "1                  nm0721526                   \\N  \n",
      "2                  nm0721526                   \\N  \n",
      "3                  nm0721526                   \\N  \n",
      "4                  nm0005690                   \\N  \n",
      "...                      ...                  ...  \n",
      "1426275           nm10538612           nm10538612  \n",
      "1426276                   \\N                   \\N  \n",
      "1426277                   \\N                   \\N  \n",
      "1426278  nm0584014,nm0996406  nm1482639,nm2586970  \n",
      "1426279  nm0584014,nm0996406  nm1482639,nm2586970  \n",
      "\n",
      "[1426280 rows x 13 columns]\n"
     ]
    }
   ],
   "source": [
    "# Gộp 3 file thông qua cột \"tconst\"\n",
    "merged_df = df_basics.merge(df_ratings, on='tconst', how='inner')  # Inner join (keeps all rows)\n",
    "merged_df = merged_df.merge(df_crew, on='tconst', how='inner')  # Merge with crew data\n",
    "\n",
    "# Chuyển file thành định dạng csv\n",
    "merged_df.to_csv('merged_data.tsv', sep='\\t', index=False)  # Without index column\n",
    "\n",
    "# In ra \n",
    "print(merged_df)"
   ]
  }
 ],
 "metadata": {
  "kernelspec": {
   "display_name": "Python 3 (ipykernel)",
   "language": "python",
   "name": "python3"
  },
  "language_info": {
   "codemirror_mode": {
    "name": "ipython",
    "version": 3
   },
   "file_extension": ".py",
   "mimetype": "text/x-python",
   "name": "python",
   "nbconvert_exporter": "python",
   "pygments_lexer": "ipython3",
   "version": "3.12.2"
  }
 },
 "nbformat": 4,
 "nbformat_minor": 5
}
