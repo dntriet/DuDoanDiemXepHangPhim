{
 "cells": [
  {
   "cell_type": "code",
   "execution_count": 1,
   "id": "dd26037e-2766-483f-a908-21c389284fc4",
   "metadata": {},
   "outputs": [],
   "source": [
    "import pandas as pd\n",
    "import gzip\n",
    "\n",
    "# Đọc 2 file gzipped\n",
    "df_basics = pd.read_csv('title.basics.tsv', sep='\\t', low_memory=False)\n",
    "df_ratings = pd.read_csv('title.ratings.tsv', sep='\\t', low_memory=False)\n",
    "df_crew = pd.read_csv('title.crew.tsv', sep='\\t', low_memory=False)"
   ]
  },
  {
   "cell_type": "code",
   "execution_count": 2,
   "id": "703c7dcf-afff-49c4-9592-d6083dcb6352",
   "metadata": {},
   "outputs": [
    {
     "name": "stdout",
     "output_type": "stream",
     "text": [
      "            tconst  titleType                primaryTitle  \\\n",
      "0        tt0000001      short                  Carmencita   \n",
      "1        tt0000002      short      Le clown et ses chiens   \n",
      "2        tt0000003      short              Pauvre Pierrot   \n",
      "3        tt0000004      short                 Un bon bock   \n",
      "4        tt0000005      short            Blacksmith Scene   \n",
      "...            ...        ...                         ...   \n",
      "1426275  tt9916730      movie                      6 Gunn   \n",
      "1426276  tt9916766  tvEpisode              Episode #10.15   \n",
      "1426277  tt9916778  tvEpisode                      Escape   \n",
      "1426278  tt9916840  tvEpisode  Horrid Henry's Comic Caper   \n",
      "1426279  tt9916880  tvEpisode   Horrid Henry Knows It All   \n",
      "\n",
      "                      originalTitle isAdult startYear endYear runtimeMinutes  \\\n",
      "0                        Carmencita       0      1894      \\N              1   \n",
      "1            Le clown et ses chiens       0      1892      \\N              5   \n",
      "2                    Pauvre Pierrot       0      1892      \\N              5   \n",
      "3                       Un bon bock       0      1892      \\N             12   \n",
      "4                  Blacksmith Scene       0      1893      \\N              1   \n",
      "...                             ...     ...       ...     ...            ...   \n",
      "1426275                      6 Gunn       0      2017      \\N            116   \n",
      "1426276              Episode #10.15       0      2019      \\N             43   \n",
      "1426277                      Escape       0      2019      \\N             \\N   \n",
      "1426278  Horrid Henry's Comic Caper       0      2014      \\N             11   \n",
      "1426279   Horrid Henry Knows It All       0      2014      \\N             10   \n",
      "\n",
      "                              genres  averageRating  numVotes  \\\n",
      "0                  Documentary,Short            5.7      2058   \n",
      "1                    Animation,Short            5.7       276   \n",
      "2           Animation,Comedy,Romance            6.5      2014   \n",
      "3                    Animation,Short            5.4       179   \n",
      "4                       Comedy,Short            6.2      2784   \n",
      "...                              ...            ...       ...   \n",
      "1426275                        Drama            7.0        12   \n",
      "1426276  Family,Game-Show,Reality-TV            7.1        23   \n",
      "1426277          Crime,Drama,Mystery            7.2        36   \n",
      "1426278   Adventure,Animation,Comedy            7.0         9   \n",
      "1426279   Adventure,Animation,Comedy            8.5         7   \n",
      "\n",
      "                   directors              writers  \n",
      "0                  nm0005690                   \\N  \n",
      "1                  nm0721526                   \\N  \n",
      "2                  nm0721526                   \\N  \n",
      "3                  nm0721526                   \\N  \n",
      "4                  nm0005690                   \\N  \n",
      "...                      ...                  ...  \n",
      "1426275           nm10538612           nm10538612  \n",
      "1426276                   \\N                   \\N  \n",
      "1426277                   \\N                   \\N  \n",
      "1426278  nm0584014,nm0996406  nm1482639,nm2586970  \n",
      "1426279  nm0584014,nm0996406  nm1482639,nm2586970  \n",
      "\n",
      "[1426280 rows x 13 columns]\n"
     ]
    }
   ],
   "source": [
    "# Gộp 3 file thông qua cột \"tconst\"\n",
    "merged_df = df_basics.merge(df_ratings, on='tconst', how='inner')  # Inner join (keeps all rows)\n",
    "merged_df = merged_df.merge(df_crew, on='tconst', how='inner')  # Merge with crew data\n",
    "\n",
    "# Chuyển file thành định dạng csv\n",
    "merged_df.to_csv('merged_data.tsv', sep='\\t', index=False)  # Without index column\n",
    "\n",
    "# In ra \n",
    "print(merged_df)"
   ]
  },
  {
   "cell_type": "code",
   "execution_count": 3,
   "id": "97b4b1e5-dc6d-48a8-a4dd-0598f9e32273",
   "metadata": {},
   "outputs": [
    {
     "name": "stdout",
     "output_type": "stream",
     "text": [
      "3\n"
     ]
    }
   ],
   "source": [
    "# Đếm số lượng dòng có ít nhất 1 giá trị null\n",
    "missing_row_count = merged_df.isnull().any(axis=1).sum()\n",
    "print(missing_row_count)"
   ]
  },
  {
   "cell_type": "code",
   "execution_count": 4,
   "id": "816aafed-04c2-4a0d-967b-9f73f1eacc3a",
   "metadata": {},
   "outputs": [
    {
     "name": "stdout",
     "output_type": "stream",
     "text": [
      "1426277\n"
     ]
    }
   ],
   "source": [
    "# gán merged_df vào 1 dataframe khác và sử dụng hàm dropna\n",
    "filtered_df = merged_df.dropna()\n",
    "# gán lại dataframe vào merged_df ban đầu \n",
    "merged_df = filtered_df\n",
    "# in ra số lượng dòng merged_df\n",
    "print(len(merged_df))"
   ]
  },
  {
   "cell_type": "code",
   "execution_count": 5,
   "id": "8449908d-8ce9-4298-9785-959769079ca9",
   "metadata": {},
   "outputs": [],
   "source": [
    "import pandas as pd\n",
    "import numpy as np\n",
    "from scipy import stats\n",
    "\n",
    "# Hàm tìm outliers sử dụng z-scores\n",
    "def identify_outliers_zscore(df, threshold=3):\n",
    "    # chọn ra các cột có kiểu dữ liệu là số\n",
    "  numerical_cols = df.select_dtypes(include=np.number) \n",
    "    #khởi tạo 1 dataframe rỗng\n",
    "  outliers_df = pd.DataFrame() \n",
    "    # duyệt qua từng cột\n",
    "  for col in numerical_cols:\n",
    "      # tính absolute z-scores\n",
    "    z_scores = np.abs(stats.zscore(df[col])) \n",
    "      # Lấy dòng với outlier trong từng cột\n",
    "    outlier_rows = df[z_scores > threshold].index  \n",
    "      # Thêm outlier vào dataframe\n",
    "    outliers_df = pd.concat([outliers_df, df.loc[outlier_rows]], ignore_index=True)  \n",
    "  return outliers_df.drop_duplicates()  \n",
    "    # Xoá trùng (duplicate) nếu tồn tại\n"
   ]
  },
  {
   "cell_type": "code",
   "execution_count": 10,
   "id": "3f98874f-9b34-4241-81d0-03fa954af995",
   "metadata": {},
   "outputs": [
    {
     "name": "stdout",
     "output_type": "stream",
     "text": [
      "          tconst  titleType                          primaryTitle  \\\n",
      "0      tt0001036      short                    Sherlock Holmes IV   \n",
      "1      tt0002739      movie                                Carmen   \n",
      "2      tt0003817      movie                                   Dan   \n",
      "3      tt0004381      movie        The Mystery of the Poison Pool   \n",
      "4      tt0004398      movie                   The Next in Command   \n",
      "...          ...        ...                                   ...   \n",
      "20481  tt9844522      movie  Escape Room: Tournament of Champions   \n",
      "20482  tt9866072      movie                              Holidate   \n",
      "20483  tt9893250      movie                          I Care a Lot   \n",
      "20484  tt9898836  tvEpisode                          Perfect Game   \n",
      "20485  tt9906260  tvEpisode                                  Hero   \n",
      "\n",
      "                              originalTitle isAdult startYear endYear  \\\n",
      "0                        Sherlock Holmes IV       0      1909      \\N   \n",
      "1                                    Carmen       0      1914      \\N   \n",
      "2                                       Dan       0      1914      \\N   \n",
      "3            The Mystery of the Poison Pool       0      1914      \\N   \n",
      "4                       The Next in Command       0      1914      \\N   \n",
      "...                                     ...     ...       ...     ...   \n",
      "20481  Escape Room: Tournament of Champions       0      2021      \\N   \n",
      "20482                              Holidate       0      2020      \\N   \n",
      "20483                          I Care a Lot       0      2020      \\N   \n",
      "20484                          Perfect Game       0      2019      \\N   \n",
      "20485                                  Hero       0      2019      \\N   \n",
      "\n",
      "      runtimeMinutes                      genres  averageRating  numVotes  \\\n",
      "0                 \\N               Mystery,Short            2.6        13   \n",
      "1                 \\N                          \\N            2.6        10   \n",
      "2                 \\N                   Drama,War            2.7        19   \n",
      "3                 \\N                   Adventure            2.2        22   \n",
      "4                 \\N                   Adventure            1.4        20   \n",
      "...              ...                         ...            ...       ...   \n",
      "20481             88     Action,Adventure,Horror            5.7     59776   \n",
      "20482            104              Comedy,Romance            6.1     79116   \n",
      "20483            118          Comedy,Crime,Drama            6.4    146476   \n",
      "20484             24  Action,Adventure,Animation            9.8     74663   \n",
      "20485             24  Action,Adventure,Animation            9.7    127469   \n",
      "\n",
      "                           directors  \\\n",
      "0                          nm0488932   \n",
      "1                nm0233626,nm0878069   \n",
      "2                nm0410271,nm0695466   \n",
      "3                          nm0330280   \n",
      "4                          nm0205986   \n",
      "...                              ...   \n",
      "20481                      nm0733263   \n",
      "20482                      nm0925870   \n",
      "20483                      nm2128335   \n",
      "20484            nm2013928,nm2242984   \n",
      "20485  nm2967345,nm2013928,nm1267452   \n",
      "\n",
      "                                                 writers  \n",
      "0                                                     \\N  \n",
      "1      nm0233626,nm0021283,nm0576830,nm0617737,nm0878069  \n",
      "2                                              nm0717281  \n",
      "3                                              nm0205986  \n",
      "4                                                     \\N  \n",
      "...                                                  ...  \n",
      "20481  nm4816650,nm3481322,nm3739595,nm3349927,nm3553...  \n",
      "20482                                          nm0667330  \n",
      "20483                                          nm2128335  \n",
      "20484                                nm4697729,nm1639992  \n",
      "20485                      nm4697729,nm1639992,nm5003154  \n",
      "\n",
      "[20468 rows x 13 columns]\n"
     ]
    }
   ],
   "source": [
    "outlier_row_df = identify_outliers_zscore(merged_df.copy(), 3)\n",
    "print(outlier_row_df)"
   ]
  },
  {
   "cell_type": "code",
   "execution_count": 11,
   "id": "e8dc7be6-49e7-4d25-8712-fd24cdcc7f61",
   "metadata": {},
   "outputs": [
    {
     "name": "stdout",
     "output_type": "stream",
     "text": [
      "(1426277, 13)\n"
     ]
    }
   ],
   "source": [
    "print(merged_df.shape)"
   ]
  },
  {
   "cell_type": "code",
   "execution_count": 15,
   "id": "5107f905-00e1-422c-bb13-7c218bfbab6d",
   "metadata": {},
   "outputs": [],
   "source": [
    "# Drops rows based on indices in outlier_rows_df\n",
    "temp_df = merged_df.drop(outlier_row_df.index)  "
   ]
  },
  {
   "cell_type": "code",
   "execution_count": 17,
   "id": "fd16bca2-4e2d-4be0-b625-e3b34d8e0ff0",
   "metadata": {},
   "outputs": [
    {
     "name": "stdout",
     "output_type": "stream",
     "text": [
      "(1405809, 13)\n"
     ]
    }
   ],
   "source": [
    "merged_df = temp_df\n",
    "print(merged_df.shape)"
   ]
  }
 ],
 "metadata": {
  "kernelspec": {
   "display_name": "Python 3 (ipykernel)",
   "language": "python",
   "name": "python3"
  },
  "language_info": {
   "codemirror_mode": {
    "name": "ipython",
    "version": 3
   },
   "file_extension": ".py",
   "mimetype": "text/x-python",
   "name": "python",
   "nbconvert_exporter": "python",
   "pygments_lexer": "ipython3",
   "version": "3.12.2"
  }
 },
 "nbformat": 4,
 "nbformat_minor": 5
}
